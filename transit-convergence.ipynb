{
 "cells": [
  {
   "cell_type": "code",
   "execution_count": null,
   "metadata": {},
   "outputs": [],
   "source": [
    "%matplotlib inline\n",
    "%config InlineBackend.figure_format = \"retina\"\n",
    "\n",
    "from matplotlib import rcParams\n",
    "rcParams[\"savefig.dpi\"] = 100\n",
    "rcParams[\"figure.dpi\"] = 100\n",
    "\n",
    "import numpy as np\n",
    "import matplotlib.pyplot as plt\n",
    "\n",
    "import tensorflow as tf\n",
    "session = tf.InteractiveSession()\n",
    "\n",
    "from exoplanet import transit"
   ]
  },
  {
   "cell_type": "code",
   "execution_count": null,
   "metadata": {},
   "outputs": [],
   "source": [
    "T = tf.float64\n",
    "\n",
    "c1 = tf.constant(0.5, dtype=T)\n",
    "c2 = tf.constant(0.5, dtype=T)\n",
    "ld = transit.QuadraticLimbDarkening(c1, c2)\n",
    "\n",
    "N = 1000\n",
    "r = tf.constant(0.1, dtype=T)\n",
    "z = (1 + r) * tf.constant(np.linspace(0.0, 1.0, N), dtype=T)\n",
    "\n",
    "delta_exact = transit.transit_depth(ld, z, r, n_integrate=500000)\n",
    "ns = 2**np.arange(1, 14)\n",
    "deltas = []\n",
    "for n in ns:\n",
    "    deltas.append(tf.reduce_max(tf.abs(delta_exact - transit.transit_depth(ld, z, r, n_integrate=n))))\n",
    "delta_z = transit.transit_depth(ld, z, r, n_integrate=1000) - delta_exact"
   ]
  },
  {
   "cell_type": "code",
   "execution_count": null,
   "metadata": {},
   "outputs": [],
   "source": [
    "# Estimate the scaling of the error\n",
    "# y = np.log10(0.005 * 2 ** np.arange(9))\n",
    "# Z = np.empty((len(y), len(ns)))\n",
    "# for i, ror in enumerate(10**y):\n",
    "#     Z[i] = np.log10(session.run(deltas, feed_dict={r: ror}))\n",
    "# x = np.log10(ns)\n",
    "# X, Y = np.meshgrid(x, y)\n",
    "# A = np.vstack((X.flatten(), Y.flatten(), np.ones(X.size))).T\n",
    "# w = np.linalg.solve(np.dot(A.T, A), np.dot(A.T, Z.flatten()))\n",
    "# w"
   ]
  },
  {
   "cell_type": "code",
   "execution_count": null,
   "metadata": {},
   "outputs": [],
   "source": [
    "z_val = z.eval()\n",
    "rors = np.array([0.01, 0.04, 0.16, 0.64])\n",
    "ld_cs = [(0.5, 0.5), (0.1, 0.8), (0.8, 0.1)]\n",
    "\n",
    "err_val = np.empty((len(ld_cs), len(rors), len(ns)))\n",
    "err_z = np.empty((len(ld_cs), len(rors), len(z_val)))\n",
    "for i, c in enumerate(ld_cs):\n",
    "    for j, ror in enumerate(rors):\n",
    "        fd = {r: ror, c1: c[0], c2: c[1]}\n",
    "        err_val[i, j], err_z[i, j] = session.run([deltas, delta_z], feed_dict=fd)"
   ]
  },
  {
   "cell_type": "code",
   "execution_count": null,
   "metadata": {},
   "outputs": [],
   "source": [
    "fig, axes = plt.subplots(2, 1, figsize=(5, 6), sharex=True)\n",
    "\n",
    "for i, (c, s) in enumerate(zip(ld_cs, [\"solid\", \"dashed\", \"dotted\"])):\n",
    "    for j, ror in enumerate(rors):\n",
    "        fd = {r: ror, c1: c[0], c2: c[1]}\n",
    "        color = \"C{0}\".format(j)\n",
    "        label = \"$r = {0:.2f}$\".format(ror) if s == \"solid\" else None\n",
    "\n",
    "        ax = axes[0]\n",
    "        ax.loglog(ns, err_val[i, j], color=color, linestyle=s, label=label)\n",
    "        \n",
    "        ax = axes[1]\n",
    "        ax.loglog(ns, err_val[i, j] / ror**2, color=color, linestyle=s, label=label)\n",
    "\n",
    "axes[0].axhline(1e-6, color=\"k\", lw=2.0, alpha=0.3)\n",
    "        \n",
    "axes[0].set_ylabel(\"$|\\delta|_\\infty$\")\n",
    "axes[1].set_ylabel(\"$|\\delta|_\\infty / r^2$\")\n",
    "axes[1].set_xlabel(\"number of integration annuli\")\n",
    "axes[1].set_xlim(ns.min(), ns.max())\n",
    "axes[0].legend()\n",
    "\n",
    "fig.subplots_adjust(hspace=0.04)"
   ]
  },
  {
   "cell_type": "code",
   "execution_count": null,
   "metadata": {},
   "outputs": [],
   "source": [
    "x = z.eval()\n",
    "rors = [0.01, 0.04, 0.16, 0.64]\n",
    "arg = transit.transit_depth(ld, z, r, n_integrate=1000) - delta_exact\n",
    "y = np.empty((len(rors), len(x)))\n",
    "for i, ror in enumerate(rors):\n",
    "    y[i] = session.run(arg, feed_dict={r: ror})"
   ]
  },
  {
   "cell_type": "code",
   "execution_count": null,
   "metadata": {},
   "outputs": [],
   "source": [
    "for i, ror in enumerate(rors):\n",
    "    plt.plot(x, y[i] / np.array(ror)**2 * 1e6, label=\"$r = {0:.2f}$\".format(ror))\n",
    "plt.xlim(0, 1.1)\n",
    "plt.ylabel(\"$(\\delta_\\mathrm{approx} - \\delta_\\mathrm{exact})/r^2 \\\\times 10^6$\")\n",
    "plt.xlabel(\"$z$\")\n",
    "plt.legend()"
   ]
  },
  {
   "cell_type": "code",
   "execution_count": null,
   "metadata": {},
   "outputs": [],
   "source": []
  },
  {
   "cell_type": "code",
   "execution_count": null,
   "metadata": {},
   "outputs": [],
   "source": []
  },
  {
   "cell_type": "code",
   "execution_count": null,
   "metadata": {},
   "outputs": [],
   "source": []
  }
 ],
 "metadata": {
  "kernelspec": {
   "display_name": "Python 3",
   "language": "python",
   "name": "python3"
  },
  "language_info": {
   "codemirror_mode": {
    "name": "ipython",
    "version": 3
   },
   "file_extension": ".py",
   "mimetype": "text/x-python",
   "name": "python",
   "nbconvert_exporter": "python",
   "pygments_lexer": "ipython3",
   "version": "3.6.1"
  }
 },
 "nbformat": 4,
 "nbformat_minor": 2
}
