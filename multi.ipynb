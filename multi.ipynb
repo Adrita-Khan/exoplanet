{
 "cells": [
  {
   "cell_type": "code",
   "execution_count": null,
   "metadata": {},
   "outputs": [],
   "source": [
    "%matplotlib inline\n",
    "%config InlineBackend.figure_format = \"retina\"\n",
    "\n",
    "from matplotlib import rcParams\n",
    "rcParams[\"savefig.dpi\"] = 100\n",
    "rcParams[\"figure.dpi\"] = 100\n",
    "\n",
    "import kplr\n",
    "import numpy as np\n",
    "import matplotlib.pyplot as plt\n",
    "from astropy.table import Table\n",
    "from scipy.signal import medfilt\n",
    "\n",
    "import tensorflow as tf\n",
    "session = tf.InteractiveSession()\n",
    "\n",
    "from exoplanet import transit, kepler\n",
    "\n",
    "import hemcee\n",
    "import tfmodeling as tfm\n",
    "\n",
    "import celeriteflow as cf"
   ]
  },
  {
   "cell_type": "code",
   "execution_count": null,
   "metadata": {},
   "outputs": [],
   "source": [
    "kepid = 11709124\n",
    "client = kplr.API()\n",
    "star = client.star(kepid)\n",
    "t = []\n",
    "y = []\n",
    "yerr = []\n",
    "quarter = []\n",
    "texp = []\n",
    "for i, lc in enumerate(star.get_light_curves(short_cadence=False)):\n",
    "    with lc.open() as f:\n",
    "        hdr = f[1].header\n",
    "        texp0 = hdr[\"INT_TIME\"] * hdr[\"NUM_FRM\"] / (24. * 60. * 60.)\n",
    "        data = f[1].data\n",
    "\n",
    "    q = data[\"SAP_QUALITY\"]\n",
    "    t0 = data[\"TIME\"]\n",
    "    y0 = data[\"PDCSAP_FLUX\"]\n",
    "    m = (q == 0) & np.isfinite(t0) & np.isfinite(y0)\n",
    "    mu = medfilt(y0[m], 101)\n",
    "#     mu = np.median(y0[m])\n",
    "    t.append(t0[m])\n",
    "    y.append((y0[m] / mu - 1.0) * 1e3)\n",
    "    yerr.append(data[\"PDCSAP_FLUX_ERR\"][m] * 1e3 / mu)\n",
    "    quarter.append(i + np.zeros(m.sum(), dtype=int))\n",
    "    texp.append(texp0 + np.zeros(m.sum()))\n",
    "t = np.ascontiguousarray(np.concatenate(t), dtype=np.float64)\n",
    "y = np.ascontiguousarray(np.concatenate(y), dtype=np.float64)\n",
    "yerr = np.ascontiguousarray(np.concatenate(yerr), dtype=np.float64)\n",
    "quarter = np.ascontiguousarray(np.concatenate(quarter), dtype=int)\n",
    "texp = np.ascontiguousarray(np.concatenate(texp), dtype=np.float64)"
   ]
  },
  {
   "cell_type": "code",
   "execution_count": null,
   "metadata": {},
   "outputs": [],
   "source": [
    "kois = star.kois\n",
    "spec = np.empty(len(kois),\n",
    "                dtype=[(\"period\", float), (\"ror\", float), (\"t0\", float)])\n",
    "for i, koi in enumerate(kois):\n",
    "    spec[\"period\"][i] = koi.koi_period\n",
    "    spec[\"ror\"][i] = koi.koi_ror\n",
    "    spec[\"t0\"][i] = koi.koi_time0bk % koi.koi_period\n",
    "spec = spec[np.argsort(spec[\"period\"])]"
   ]
  },
  {
   "cell_type": "code",
   "execution_count": null,
   "metadata": {},
   "outputs": [],
   "source": [
    "t0 = spec[\"t0\"][-1]\n",
    "rng = (t0 - 10 < t) & (t < t0 + 40)\n",
    "plt.plot(t[rng], y[rng], \"k\")"
   ]
  },
  {
   "cell_type": "code",
   "execution_count": null,
   "metadata": {},
   "outputs": [],
   "source": [
    "gkf = Table.read(\"kepler_dr2_1arcsec.fits\", format=\"fits\").to_pandas()\n",
    "star = gkf[gkf.kepid.astype(int) == kepid].iloc[0]\n",
    "\n",
    "vals = dict()\n",
    "for k in [\"radius\", \"mass\"]:\n",
    "    mn = star[k] + star[k + \"_err2\"]\n",
    "    mx = star[k] + star[k + \"_err1\"]\n",
    "    log_mu = np.log(star[k])\n",
    "    log_err = 0.5 * ((log_mu - np.log(mn)) + (np.log(mx) - log_mu))\n",
    "    vals[k] = (log_mu, log_err)\n",
    "\n",
    "np.random.seed(42)\n",
    "N = 50000\n",
    "R = np.exp(vals[\"radius\"][0] + vals[\"radius\"][1] * np.random.randn(N))\n",
    "M = np.exp(vals[\"mass\"][0] + vals[\"mass\"][1] * np.random.randn(N))\n",
    "log_dens = np.log(0.75 * M / (np.pi * R**3))\n",
    "log_dens = (np.mean(log_dens), np.std(log_dens))\n",
    "print(log_dens)"
   ]
  },
  {
   "cell_type": "code",
   "execution_count": null,
   "metadata": {},
   "outputs": [],
   "source": [
    "spec"
   ]
  },
  {
   "cell_type": "code",
   "execution_count": null,
   "metadata": {},
   "outputs": [],
   "source": [
    "T = tf.float64\n",
    "\n",
    "G_grav = 2945.462538537765\n",
    "factor = (G_grav / (3 * np.pi)) ** (1./3)\n",
    "\n",
    "nint = 3\n",
    "dt = tf.constant(texp[rng][:, None] * np.linspace(-0.5, 0.5, 2*nint+1)[1:-1:2], dtype=T)\n",
    "tmid_tensor = tf.constant(t[rng], dtype=T)\n",
    "t_tensor = tmid_tensor[:, None] + dt\n",
    "y_tensor = tf.constant(y[rng], dtype=T)\n",
    "yerr_tensor = tf.constant(yerr[rng], dtype=T)\n",
    "\n",
    "# Star\n",
    "log_jitter = tfm.Parameter(\n",
    "    2.0*np.log(np.median(yerr)),\n",
    "    bounds=(2.0*np.log(0.01*np.median(yerr)), 2.0*np.log(10.0*np.median(yerr))),\n",
    "    dtype=T)\n",
    "flux = tfm.Parameter(0.0, bounds=(-2, 2), dtype=T)\n",
    "q = tfm.Parameter(0.5 + np.zeros(2), bounds=(0, 1), dtype=T)\n",
    "log_rho_star = tfm.Parameter(log_dens[0], dtype=T)\n",
    "q1 = q.value[0]\n",
    "q2 = q.value[1]\n",
    "c1 = 2.0 * tf.sqrt(q1) * q2\n",
    "c2 = tf.sqrt(q1) * (1.0 - 2.0 * q2)\n",
    "ld = transit.QuadraticLimbDarkening(c1, c2)\n",
    "\n",
    "# planets\n",
    "pls = [2, 5]\n",
    "n_pl = len(pls)\n",
    "log_Ps = []\n",
    "for p in spec[\"period\"][pls]:\n",
    "    bounds = None\n",
    "#     bounds = (np.log(p - 1), np.log(p + 1))\n",
    "#     if p > 365:\n",
    "#         bounds = (np.log(10), np.log(100*365.))\n",
    "    log_Ps.append(tfm.Parameter(np.log(p), bounds=bounds, dtype=T))\n",
    "log_P = tf.stack([p.value for p in log_Ps])\n",
    "\n",
    "log_r = tfm.Parameter(np.log(spec[\"ror\"][pls]), dtype=T)  # bounds=(-10, 10), dtype=T)\n",
    "t0 = tfm.Parameter(spec[\"t0\"][pls], dtype=T)\n",
    "b = tfm.Parameter(np.zeros(n_pl), bounds=(-2.0, 2.0), dtype=T)\n",
    "e = tfm.Parameter(np.random.uniform(0, 0.01, n_pl), bounds=(0, 1.0), dtype=T)\n",
    "# e = tfm.Parameter(np.zeros(n_pl), dtype=T)\n",
    "omega_vec = tfm.UnitVector(np.random.randn(n_pl, 2), dtype=T)\n",
    "\n",
    "ror = tf.exp(log_r.value)\n",
    "a = factor * tf.exp((2.0 * log_P + log_rho_star.value) / 3.0)\n",
    "cosi = tf.abs(b.value) / a\n",
    "incl = tf.acos(cosi)\n",
    "\n",
    "sin_omega = omega_vec.value[:, 0]\n",
    "cos_omega = omega_vec.value[:, 1]\n",
    "omega = tf.atan2(sin_omega, cos_omega)\n",
    "\n",
    "print(kepler.sky_position(tf.exp(log_P), t0.value, e.value, omega, incl, t_tensor).shape)\n",
    "coords = a[None, :, None, None] * kepler.sky_position(tf.exp(log_P), t0.value, e.value, omega, incl, t_tensor)\n",
    "d = tf.sqrt(tf.reduce_sum(tf.square(coords[:2]), axis=0))\n",
    "delta = transit.transit_depth(ld, d, ror[:, None, None]+tf.zeros_like(d), direction=coords[2], n_integrate=100)\n",
    "\n",
    "transit_model = flux.value - 1e3 * tf.reduce_mean(tf.reduce_sum(delta, axis=0), axis=1)\n",
    "\n",
    "err2 = tf.square(yerr_tensor) + tf.exp(log_jitter.value)\n",
    "chi2 = tf.reduce_sum(tf.square(transit_model - y_tensor) / err2 + tf.log(err2))\n",
    "chi2 += tf.square((log_rho_star.value - log_dens[0]) / log_dens[1])\n",
    "\n",
    "log_prob = -0.5*chi2\n",
    "\n",
    "# Beta prior\n",
    "alpha = 0.867\n",
    "beta = 3.03\n",
    "log_prob += tf.reduce_sum((alpha-1)*tf.log(e.value) + (beta-1)*tf.log(1-e.value))\n",
    "\n",
    "params = [flux, log_jitter, q, log_rho_star] + log_Ps + [log_r, t0, b, e, omega_vec]\n",
    "model = tfm.Model(log_prob, params, session=session)\n",
    "\n",
    "opt = tf.contrib.opt.ScipyOptimizerInterface(chi2, model.get_parameters())\n",
    "\n",
    "session.run(tf.global_variables_initializer())"
   ]
  },
  {
   "cell_type": "code",
   "execution_count": null,
   "metadata": {},
   "outputs": [],
   "source": [
    "plt.plot(t[rng], y[rng], \".k\")\n",
    "plt.plot(tmid_tensor.eval(), transit_model.eval())"
   ]
  },
  {
   "cell_type": "code",
   "execution_count": null,
   "metadata": {},
   "outputs": [],
   "source": [
    "opt.minimize(session)"
   ]
  },
  {
   "cell_type": "code",
   "execution_count": null,
   "metadata": {},
   "outputs": [],
   "source": [
    "plt.plot(t[rng], y[rng], \".k\")\n",
    "plt.plot(tmid_tensor.eval(), transit_model.eval())"
   ]
  },
  {
   "cell_type": "code",
   "execution_count": null,
   "metadata": {},
   "outputs": [],
   "source": [
    "tf.exp(log_P).eval()"
   ]
  },
  {
   "cell_type": "code",
   "execution_count": null,
   "metadata": {},
   "outputs": [],
   "source": [
    "coords = model.current_vector()\n",
    "ndim = len(coords)\n",
    "print(ndim)\n",
    "\n",
    "diag = np.empty(ndim)\n",
    "\n",
    "eps = 1.234e-4\n",
    "v0 = model.value(coords)\n",
    "for n in range(ndim):\n",
    "    coords[n] += eps\n",
    "    vp = model.value(coords)\n",
    "    coords[n] -= 2*eps\n",
    "    vm = model.value(coords)\n",
    "    coords[n] += eps\n",
    "    \n",
    "    diag[n] = eps**2 / np.abs(vp + vm - 2*v0)"
   ]
  },
  {
   "cell_type": "code",
   "execution_count": null,
   "metadata": {},
   "outputs": [],
   "source": [
    "diag"
   ]
  },
  {
   "cell_type": "code",
   "execution_count": null,
   "metadata": {},
   "outputs": [],
   "source": [
    "model.value(coords)\n",
    "%timeit model.value(coords)"
   ]
  },
  {
   "cell_type": "code",
   "execution_count": null,
   "metadata": {},
   "outputs": [],
   "source": [
    "model.gradient(coords)\n",
    "%timeit model.gradient(coords)"
   ]
  },
  {
   "cell_type": "code",
   "execution_count": null,
   "metadata": {},
   "outputs": [],
   "source": [
    "metric = hemcee.metric.DenseMetric(np.diag(diag))\n",
    "sampler = hemcee.NoUTurnSampler(model.value, model.gradient, metric=metric)\n",
    "results = sampler.run_warmup(coords, 10000, initial_buffer=1000, final_buffer=1000)"
   ]
  },
  {
   "cell_type": "code",
   "execution_count": null,
   "metadata": {},
   "outputs": [],
   "source": [
    "chain, lp_chain = sampler.run_mcmc(results[0], 5000)"
   ]
  },
  {
   "cell_type": "code",
   "execution_count": null,
   "metadata": {},
   "outputs": [],
   "source": [
    "plt.plot(chain[:, 0]);"
   ]
  },
  {
   "cell_type": "code",
   "execution_count": null,
   "metadata": {},
   "outputs": [],
   "source": [
    "import corner\n",
    "corner.corner(chain[:, :5]);"
   ]
  },
  {
   "cell_type": "code",
   "execution_count": null,
   "metadata": {},
   "outputs": [],
   "source": [
    "res = model.get_values_for_chain(chain, [log_rho_star.value], names=[\"log_rho\"])"
   ]
  },
  {
   "cell_type": "code",
   "execution_count": null,
   "metadata": {},
   "outputs": [],
   "source": [
    "plt.hist(res[\"log_rho\"], 50, color=\"k\")\n",
    "plt.axvline(log_dens[0])\n",
    "plt.axvline(log_dens[0] + log_dens[1], linestyle=\"--\")\n",
    "plt.axvline(log_dens[0] - log_dens[1], linestyle=\"--\");"
   ]
  },
  {
   "cell_type": "code",
   "execution_count": null,
   "metadata": {},
   "outputs": [],
   "source": [
    "res = model.get_values_for_chain(chain, [tf.exp(log_P)], names=[\"period\"])"
   ]
  },
  {
   "cell_type": "code",
   "execution_count": null,
   "metadata": {},
   "outputs": [],
   "source": [
    "plt.plot(res[\"period\"][:, 0])"
   ]
  },
  {
   "cell_type": "code",
   "execution_count": null,
   "metadata": {},
   "outputs": [],
   "source": [
    "plt.hist(res[\"period\"][:, -1] / 365.25, 50);"
   ]
  },
  {
   "cell_type": "code",
   "execution_count": null,
   "metadata": {},
   "outputs": [],
   "source": [
    "res = model.get_values_for_chain(chain, [e.value], names=[\"e\"])\n",
    "plt.plot(np.sqrt(res[\"e\"]));"
   ]
  },
  {
   "cell_type": "code",
   "execution_count": null,
   "metadata": {},
   "outputs": [],
   "source": []
  },
  {
   "cell_type": "code",
   "execution_count": null,
   "metadata": {},
   "outputs": [],
   "source": []
  },
  {
   "cell_type": "code",
   "execution_count": null,
   "metadata": {},
   "outputs": [],
   "source": []
  },
  {
   "cell_type": "code",
   "execution_count": null,
   "metadata": {},
   "outputs": [],
   "source": []
  },
  {
   "cell_type": "code",
   "execution_count": null,
   "metadata": {},
   "outputs": [],
   "source": []
  },
  {
   "cell_type": "code",
   "execution_count": null,
   "metadata": {},
   "outputs": [],
   "source": [
    "plt.hist(res[\"period\"] / 365.25, 50);"
   ]
  },
  {
   "cell_type": "code",
   "execution_count": null,
   "metadata": {},
   "outputs": [],
   "source": []
  }
 ],
 "metadata": {
  "kernelspec": {
   "display_name": "Python 3",
   "language": "python",
   "name": "python3"
  },
  "language_info": {
   "codemirror_mode": {
    "name": "ipython",
    "version": 3
   },
   "file_extension": ".py",
   "mimetype": "text/x-python",
   "name": "python",
   "nbconvert_exporter": "python",
   "pygments_lexer": "ipython3",
   "version": "3.6.1"
  }
 },
 "nbformat": 4,
 "nbformat_minor": 2
}
