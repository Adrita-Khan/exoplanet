{
 "cells": [
  {
   "cell_type": "markdown",
   "metadata": {},
   "source": [
    "# Light travel time delay\n",
    "\n",
    "A simple example showing the effects of light travel time delay on an edge-on planet in an orbit similar to that of Earth."
   ]
  },
  {
   "cell_type": "code",
   "execution_count": null,
   "metadata": {
    "tags": [
     "hide_input"
    ]
   },
   "outputs": [],
   "source": [
    "%matplotlib inline"
   ]
  },
  {
   "cell_type": "code",
   "execution_count": null,
   "metadata": {
    "tags": [
     "hide_input"
    ]
   },
   "outputs": [],
   "source": [
    "%run notebook_setup"
   ]
  },
  {
   "cell_type": "code",
   "execution_count": null,
   "metadata": {},
   "outputs": [],
   "source": [
    "import matplotlib.pyplot as plt\n",
    "import numpy as np\n",
    "from astropy import units as u\n",
    "import exoplanet as xo"
   ]
  },
  {
   "cell_type": "markdown",
   "metadata": {},
   "source": [
    "Let's instantiate an orbit corresponding to a massless Earth orbiting the Sun in a circular orbit, viewed edge-on:"
   ]
  },
  {
   "cell_type": "code",
   "execution_count": null,
   "metadata": {},
   "outputs": [],
   "source": [
    "orbit = xo.orbits.KeplerianOrbit(\n",
    "    period=365.25,\n",
    "    t0=0.0,\n",
    "    incl=0.5 * np.pi,\n",
    "    ecc=0.0,\n",
    "    omega=0.0,\n",
    "    Omega=0.0,\n",
    "    m_planet=0.0,\n",
    "    m_star=1.0,\n",
    "    r_star=1.0\n",
    ")"
   ]
  },
  {
   "cell_type": "markdown",
   "metadata": {},
   "source": [
    "In the observer's coordinate system, the Earth will be seen to transit the Sun when its `x` position is zero. We specified the reference transit time to be `t0 = 0`, so let's check that this is indeed the case. Below we compute the time closest to the point where `x = 0`:"
   ]
  },
  {
   "cell_type": "code",
   "execution_count": null,
   "metadata": {},
   "outputs": [],
   "source": [
    "t = np.linspace(-0.01, 0.01, 9999)\n",
    "x, y, z = orbit.get_planet_position(t)\n",
    "t0_obs1 = t[np.argmin(np.abs(x.eval()))]\n",
    "print(\"{:.4f}\".format(t0_obs1))"
   ]
  },
  {
   "cell_type": "markdown",
   "metadata": {},
   "source": [
    "No surprises here! But what happens if we add light travel time delay into the mix?"
   ]
  },
  {
   "cell_type": "code",
   "execution_count": null,
   "metadata": {},
   "outputs": [],
   "source": [
    "x, y, z = orbit.get_planet_position(t, light_delay=True)\n",
    "t0_obs2 = t[np.argmin(np.abs(x.eval()))]\n",
    "print(\"{:.4f}\".format(t0_obs2))"
   ]
  },
  {
   "cell_type": "markdown",
   "metadata": {},
   "source": [
    "Recall that the time is in days by default. Let's see what it is in minutes:"
   ]
  },
  {
   "cell_type": "code",
   "execution_count": null,
   "metadata": {},
   "outputs": [],
   "source": [
    "print(\"{:.2f}\".format((t0_obs2 * u.day).to(u.minute)))"
   ]
  },
  {
   "cell_type": "markdown",
   "metadata": {},
   "source": [
    "So when we account for light travel time delay, the Earth appears to transit the Sun *early* by about 8.3 minutes. In `exoplanet`, the reference time `t0` is specified relative to the origin of the coordinate system (in this case, the position of the Sun). You can check that this is in fact the [light travel time from the Sun to the Earth](https://image.gsfc.nasa.gov/poetry/venus/q89.html)."
   ]
  },
  {
   "cell_type": "markdown",
   "metadata": {},
   "source": [
    "Since transits happen early, you might guess that the opposite is true for secondary eclipses: they appear to occur late. Let's check this. Absent any time delay, the center of the eclipse should again occur when `x = 0`, half a period after the transit:"
   ]
  },
  {
   "cell_type": "code",
   "execution_count": null,
   "metadata": {},
   "outputs": [],
   "source": [
    "t = np.linspace(0.5 * orbit.period.eval() - 0.01, 0.5 * orbit.period.eval() + 0.01, 9999)\n",
    "x, y, z = orbit.get_planet_position(t)\n",
    "t0_obs1 = t[np.argmin(np.abs(x.eval()))]\n",
    "print(\"{:.4f}\".format(t0_obs1))"
   ]
  },
  {
   "cell_type": "code",
   "execution_count": null,
   "metadata": {},
   "outputs": [],
   "source": [
    "x, y, z = orbit.get_planet_position(t, light_delay=True)\n",
    "t0_obs2 = t[np.argmin(np.abs(x.eval()))]\n",
    "print(\"{:.4f}\".format(t0_obs2))"
   ]
  },
  {
   "cell_type": "markdown",
   "metadata": {},
   "source": [
    "The difference between those two is"
   ]
  },
  {
   "cell_type": "code",
   "execution_count": null,
   "metadata": {},
   "outputs": [],
   "source": [
    "print(\"{:.2f}\".format(((t0_obs2 - t0_obs1) * u.day).to(u.minute)))"
   ]
  },
  {
   "cell_type": "markdown",
   "metadata": {},
   "source": [
    "as expected."
   ]
  },
  {
   "cell_type": "markdown",
   "metadata": {},
   "source": [
    "As an example, here's a comparison between a transit light curve that includes light travel delay and one that doesnt't:"
   ]
  },
  {
   "cell_type": "code",
   "execution_count": null,
   "metadata": {},
   "outputs": [],
   "source": [
    "# Region around transit\n",
    "t = np.linspace(-0.5, 0.5, 20000)\n",
    "\n",
    "# No light delay\n",
    "light_curve1 = (\n",
    "    xo.LimbDarkLightCurve([0.5, 0.25])\n",
    "    .get_light_curve(orbit=orbit, r=0.1, t=t)\n",
    "    .eval()\n",
    ")\n",
    "\n",
    "# With light delay\n",
    "light_curve2 = (\n",
    "    xo.LimbDarkLightCurve([0.5, 0.25])\n",
    "    .get_light_curve(orbit=orbit, r=0.1, t=t, light_delay=True, use_in_transit=False)\n",
    "    .eval()\n",
    ")\n",
    "\n",
    "# Plot!\n",
    "fig = plt.figure(figsize=(8, 3))\n",
    "plt.plot(t, light_curve1, label=\"no delay\")\n",
    "plt.plot(t, light_curve2, label=\"with delay\")\n",
    "plt.xlabel(\"time [days]\")\n",
    "plt.ylabel(\"relative flux\")\n",
    "plt.legend(fontsize=10, loc=\"lower right\")\n",
    "plt.title(\"Light delay causes transits to occur 8.32 minutes early\", fontsize=14);"
   ]
  }
 ],
 "metadata": {
  "celltoolbar": "Tags",
  "kernelspec": {
   "display_name": "Python 3",
   "language": "python",
   "name": "python3"
  },
  "language_info": {
   "codemirror_mode": {
    "name": "ipython",
    "version": 3
   },
   "file_extension": ".py",
   "mimetype": "text/x-python",
   "name": "python",
   "nbconvert_exporter": "python",
   "pygments_lexer": "ipython3",
   "version": "3.7.4"
  }
 },
 "nbformat": 4,
 "nbformat_minor": 2
}
